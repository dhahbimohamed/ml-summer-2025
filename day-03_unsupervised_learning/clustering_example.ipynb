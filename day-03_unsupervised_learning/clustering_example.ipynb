{
  "nbformat": 4,
  "nbformat_minor": 0,
  "metadata": {
    "colab": {
      "provenance": [],
      "authorship_tag": "ABX9TyNvvF6F4XP/zAPhwWvcRaCX",
      "include_colab_link": true
    },
    "kernelspec": {
      "name": "python3",
      "display_name": "Python 3"
    },
    "language_info": {
      "name": "python"
    }
  },
  "cells": [
    {
      "cell_type": "markdown",
      "metadata": {
        "id": "view-in-github",
        "colab_type": "text"
      },
      "source": [
        "<a href=\"https://colab.research.google.com/github/dhahbimohamed/ml-summer-2025/blob/main/day-03_unsupervised_learning/clustering_example.ipynb\" target=\"_parent\"><img src=\"https://colab.research.google.com/assets/colab-badge.svg\" alt=\"Open In Colab\"/></a>"
      ]
    },
    {
      "cell_type": "code",
      "execution_count": 12,
      "metadata": {
        "id": "7U1bIomq1IGp"
      },
      "outputs": [],
      "source": [
        "from sklearn.cluster import KMeans\n",
        "import numpy as np\n",
        "import matplotlib.pyplot as plt"
      ]
    },
    {
      "cell_type": "code",
      "source": [
        "data = np.array([\n",
        "    [1, 2], [1, 4], [1, 0],\n",
        "    [4, 2], [4, 4], [4, 0]\n",
        "])"
      ],
      "metadata": {
        "id": "t54IAYVb1MN0"
      },
      "execution_count": 13,
      "outputs": []
    },
    {
      "cell_type": "code",
      "source": [
        "kmeans = KMeans(n_clusters=2, random_state=0).fit(data)"
      ],
      "metadata": {
        "id": "aRVWB1lb1oVe"
      },
      "execution_count": 14,
      "outputs": []
    },
    {
      "cell_type": "code",
      "source": [
        "print(\"Labels:\", kmeans.labels_)\n",
        "print(\"Centroids:\", kmeans.cluster_centers_)"
      ],
      "metadata": {
        "colab": {
          "base_uri": "https://localhost:8080/"
        },
        "id": "Dzg-TkYR1suR",
        "outputId": "7f15f8d5-badb-449f-b3a8-c71bb4b5ec91"
      },
      "execution_count": 15,
      "outputs": [
        {
          "output_type": "stream",
          "name": "stdout",
          "text": [
            "Labels: [1 0 1 0 0 0]\n",
            "Centroids: [[3.25 2.5 ]\n",
            " [1.   1.  ]]\n"
          ]
        }
      ]
    }
  ]
}