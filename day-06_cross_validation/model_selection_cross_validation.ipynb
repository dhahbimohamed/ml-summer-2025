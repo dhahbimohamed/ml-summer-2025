{
  "nbformat": 4,
  "nbformat_minor": 0,
  "metadata": {
    "colab": {
      "provenance": [],
      "authorship_tag": "ABX9TyMR/LakkgbA2D8YJJinZ0wn",
      "include_colab_link": true
    },
    "kernelspec": {
      "name": "python3",
      "display_name": "Python 3"
    },
    "language_info": {
      "name": "python"
    }
  },
  "cells": [
    {
      "cell_type": "markdown",
      "metadata": {
        "id": "view-in-github",
        "colab_type": "text"
      },
      "source": [
        "<a href=\"https://colab.research.google.com/github/dhahbimohamed/ml-summer-2025/blob/main/day-06_cross_validation/model_selection_cross_validation.ipynb\" target=\"_parent\"><img src=\"https://colab.research.google.com/assets/colab-badge.svg\" alt=\"Open In Colab\"/></a>"
      ]
    },
    {
      "cell_type": "code",
      "execution_count": 27,
      "metadata": {
        "id": "7U1bIomq1IGp"
      },
      "outputs": [],
      "source": [
        "from sklearn.datasets import load_iris\n",
        "from sklearn.model_selection import cross_val_score, KFold, GridSearchCV\n",
        "from sklearn.ensemble import RandomForestClassifier\n",
        "from sklearn.svm import SVC\n",
        "from sklearn.linear_model import LogisticRegression\n",
        "import numpy as np"
      ]
    },
    {
      "cell_type": "code",
      "source": [
        "X, y = load_iris(return_X_y=True)"
      ],
      "metadata": {
        "id": "t54IAYVb1MN0"
      },
      "execution_count": 28,
      "outputs": []
    },
    {
      "cell_type": "code",
      "source": [
        "kf = KFold(n_splits=5, shuffle=True, random_state=42)"
      ],
      "metadata": {
        "id": "aRVWB1lb1oVe"
      },
      "execution_count": 29,
      "outputs": []
    },
    {
      "cell_type": "code",
      "source": [
        "models = {\n",
        "    \"random_forest\": {\n",
        "        \"model\": RandomForestClassifier(),\n",
        "        \"params\": {\n",
        "            \"n_estimators\": [10, 50, 100],\n",
        "            \"max_depth\": [None, 5, 10]\n",
        "        }\n",
        "    },\n",
        "    \"SVM\":{\n",
        "        \"model\": SVC(),\n",
        "        \"params\": {\n",
        "            \"C\": [0,1, 1, 10],\n",
        "            \"kernel\": [\"linear\", \"rbf\"]\n",
        "        }\n",
        "    },\n",
        "    \"Logistic Regression\":{\n",
        "        \"model\": LogisticRegression(max_iter = 1000),\n",
        "        \"params\": {\n",
        "            \"C\": [0.01, 0.1, 1, 10],\n",
        "            \"solver\": [\"lbfgs\", \"liblinear\"]\n",
        "        }\n",
        "    }\n",
        "}"
      ],
      "metadata": {
        "id": "PGA7YyCu8xdq"
      },
      "execution_count": 30,
      "outputs": []
    },
    {
      "cell_type": "code",
      "source": [
        "for name,m in models.items():\n",
        "  clf = GridSearchCV(m[\"model\"], m[\"params\"], cv=kf,scoring=\"accuracy\")\n",
        "  clf.fit(X, y)\n",
        "  print(f\"🔍 {name}\")\n",
        "  print(\"Best Cross-Validated Accuracy: \", clf.best_score_)\n",
        "  print(\"Best Hyperparameters: \", clf.best_params_)\n",
        "  print(\"-\" * 50)"
      ],
      "metadata": {
        "colab": {
          "base_uri": "https://localhost:8080/"
        },
        "id": "Dzg-TkYR1suR",
        "outputId": "e9c73b1d-b865-4c1c-ebfc-35187ffd289e"
      },
      "execution_count": 33,
      "outputs": [
        {
          "output_type": "stream",
          "name": "stdout",
          "text": [
            "🔍 random_forest\n",
            "Best Cross-Validated Accuracy:  0.9733333333333334\n",
            "Best Hyperparameters:  {'max_depth': 10, 'n_estimators': 10}\n",
            "--------------------------------------------------\n",
            "🔍 SVM\n",
            "Best Cross-Validated Accuracy:  0.9733333333333334\n",
            "Best Hyperparameters:  {'C': 1, 'kernel': 'linear'}\n",
            "--------------------------------------------------\n"
          ]
        },
        {
          "output_type": "stream",
          "name": "stderr",
          "text": [
            "/usr/local/lib/python3.11/dist-packages/sklearn/model_selection/_validation.py:528: FitFailedWarning: \n",
            "10 fits failed out of a total of 40.\n",
            "The score on these train-test partitions for these parameters will be set to nan.\n",
            "If these failures are not expected, you can try to debug them by setting error_score='raise'.\n",
            "\n",
            "Below are more details about the failures:\n",
            "--------------------------------------------------------------------------------\n",
            "10 fits failed with the following error:\n",
            "Traceback (most recent call last):\n",
            "  File \"/usr/local/lib/python3.11/dist-packages/sklearn/model_selection/_validation.py\", line 866, in _fit_and_score\n",
            "    estimator.fit(X_train, y_train, **fit_params)\n",
            "  File \"/usr/local/lib/python3.11/dist-packages/sklearn/base.py\", line 1382, in wrapper\n",
            "    estimator._validate_params()\n",
            "  File \"/usr/local/lib/python3.11/dist-packages/sklearn/base.py\", line 436, in _validate_params\n",
            "    validate_parameter_constraints(\n",
            "  File \"/usr/local/lib/python3.11/dist-packages/sklearn/utils/_param_validation.py\", line 98, in validate_parameter_constraints\n",
            "    raise InvalidParameterError(\n",
            "sklearn.utils._param_validation.InvalidParameterError: The 'C' parameter of SVC must be a float in the range (0.0, inf]. Got 0 instead.\n",
            "\n",
            "  warnings.warn(some_fits_failed_message, FitFailedWarning)\n",
            "/usr/local/lib/python3.11/dist-packages/sklearn/model_selection/_search.py:1108: UserWarning: One or more of the test scores are non-finite: [       nan        nan 0.97333333 0.96666667 0.97333333 0.96666667\n",
            " 0.96       0.96666667]\n",
            "  warnings.warn(\n"
          ]
        },
        {
          "output_type": "stream",
          "name": "stdout",
          "text": [
            "🔍 Logistic Regression\n",
            "Best Cross-Validated Accuracy:  0.9733333333333334\n",
            "Best Hyperparameters:  {'C': 1, 'solver': 'lbfgs'}\n",
            "--------------------------------------------------\n"
          ]
        }
      ]
    },
    {
      "cell_type": "code",
      "source": [],
      "metadata": {
        "id": "1xxy5zWj-z2X"
      },
      "execution_count": null,
      "outputs": []
    }
  ]
}